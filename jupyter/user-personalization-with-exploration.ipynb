{
 "cells": [
  {
   "cell_type": "markdown",
   "metadata": {},
   "source": [
    "## Receta de personalización del usuario\n",
    "\n",
    "Este notebook muestra cómo utilizar la nueva receta de personalización de usuarios de Amazon Personalize (aws-user-personalization). Esta receta equilibra las recomendaciones entre elementos nuevos y antiguos, lo que le permite ajustar el equilibrio a favor de más elementos nuevos o más antiguos.\n",
    "\n",
    "En un nivel alto, el uso de la nueva receta de personalización del USUARIO implica los siguientes pasos:\n",
    "\n",
    "1. Configurar cliente personalizado\n",
    "2. Crear DatasetGroup, definir un modelo, importar conjuntos de datos e ingesta de interacciones real-time\n",
    "3. Cree una campaña con una nueva configuración. 'campaignConfig'\n",
    "4. Cree un rastreador de eventos para la ingesta de los eventos enviados por PutEvents.\n",
    "5. Llame a GetRecommendations, se devuelve un nuevo campo Recomendación ID en la respuesta.\n",
    "6. Llame a putEvents con RecommendationsId o una lista personalizada de elementos de impresión.\n",
    "7. Espere a que se actualice la campaña.\n",
    "8. Actualizar campaña para detener la actualización automática.\n",
    "9. Limpiar"
   ]
  },
  {
   "cell_type": "markdown",
   "metadata": {},
   "source": [
    "### Credenciales AWS Cli.\n",
    "\n",
    "Las credenciales de AWS deben tener permisos programaticos y a los recursos de la arquitectura definida."
   ]
  },
  {
   "cell_type": "code",
   "execution_count": 41,
   "metadata": {},
   "outputs": [],
   "source": [
    "accessKeyId = \"clave\"\n",
    "secretAccessKey = \"clave\"\n",
    "region_name = \"us-east-1\""
   ]
  },
  {
   "cell_type": "code",
   "execution_count": 42,
   "metadata": {},
   "outputs": [],
   "source": [
    "import os\n",
    "import boto3\n",
    "from botocore.exceptions import ClientError\n",
    "import time\n",
    "import numpy as np\n",
    "import pandas as pd\n",
    "import json\n",
    "from datetime import datetime"
   ]
  },
  {
   "cell_type": "code",
   "execution_count": 43,
   "metadata": {},
   "outputs": [
    {
     "name": "stdout",
     "output_type": "stream",
     "text": [
      "prefix+suffix:user-personalization-30585\n"
     ]
    }
   ],
   "source": [
    "suffix = str(np.random.uniform())[4:9]\n",
    "prefix = 'user-personalization-'\n",
    "print('prefix+suffix:{}{}'.format(prefix, suffix))\n",
    "s3_bucket_name = (prefix + suffix).lower()\n",
    "interaction_schema_name = prefix + 'interaction-'  + suffix\n",
    "item_metadata_schema_name = prefix + 'items-'  + suffix\n",
    "dataset_group_name = prefix + suffix\n",
    "interaction_dataset_name = prefix + 'interactions-' + suffix\n",
    "item_metadata_dataset_name = prefix + 'items-' + suffix\n",
    "event_tracker_name = prefix + suffix\n",
    "solution_name = prefix + suffix\n",
    "event_tracker_name = prefix + suffix\n",
    "campaign_name = prefix + suffix"
   ]
  },
  {
   "cell_type": "markdown",
   "metadata": {},
   "source": [
    "### 1. Configuracion del cliente"
   ]
  },
  {
   "cell_type": "code",
   "execution_count": 44,
   "metadata": {},
   "outputs": [],
   "source": [
    "s3_client = boto3.Session(aws_access_key_id=accessKeyId,\n",
    "                           aws_secret_access_key=secretAccessKey, region_name=region_name).client('s3')"
   ]
  },
  {
   "cell_type": "markdown",
   "metadata": {},
   "source": [
    "####  Initialize personalize clients"
   ]
  },
  {
   "cell_type": "code",
   "execution_count": 45,
   "metadata": {},
   "outputs": [],
   "source": [
    "personalize = boto3.Session(aws_access_key_id=accessKeyId,\n",
    "                           aws_secret_access_key=secretAccessKey, region_name=region_name).client('personalize')\n",
    "personalize_runtime = boto3.Session(aws_access_key_id=accessKeyId,\n",
    "                           aws_secret_access_key=secretAccessKey, region_name=region_name).client('personalize-runtime')\n",
    "personalize_events = boto3.Session(aws_access_key_id=accessKeyId,\n",
    "                           aws_secret_access_key=secretAccessKey, region_name=region_name).client('personalize-events')"
   ]
  },
  {
   "cell_type": "markdown",
   "metadata": {},
   "source": [
    "### Datasets Liphycos S.A.\n",
    "\n",
    "Usaremos los conjuntos de datos de Liphycos S.A. Existen dos conjuntos de datos para este caso, el uno son los metadatos de los items o productos y el otro es un conjunto de datos de interacción del usuario."
   ]
  },
  {
   "cell_type": "code",
   "execution_count": 46,
   "metadata": {},
   "outputs": [],
   "source": [
    "interactions_file = os.getcwd() + \"/interaction.csv\"\n",
    "items_metadata_file = os.getcwd() + \"/items.csv\""
   ]
  },
  {
   "cell_type": "code",
   "execution_count": 47,
   "metadata": {},
   "outputs": [],
   "source": [
    "interactions_df = pd.read_csv(interactions_file)\n",
    "items_df = pd.read_csv(items_metadata_file)"
   ]
  },
  {
   "cell_type": "markdown",
   "metadata": {},
   "source": [
    "#### Echemos un vistazo al marco de datos de interacción "
   ]
  },
  {
   "cell_type": "code",
   "execution_count": 48,
   "metadata": {
    "scrolled": true
   },
   "outputs": [
    {
     "data": {
      "text/html": [
       "<div>\n",
       "<style scoped>\n",
       "    .dataframe tbody tr th:only-of-type {\n",
       "        vertical-align: middle;\n",
       "    }\n",
       "\n",
       "    .dataframe tbody tr th {\n",
       "        vertical-align: top;\n",
       "    }\n",
       "\n",
       "    .dataframe thead th {\n",
       "        text-align: right;\n",
       "    }\n",
       "</style>\n",
       "<table border=\"1\" class=\"dataframe\">\n",
       "  <thead>\n",
       "    <tr style=\"text-align: right;\">\n",
       "      <th></th>\n",
       "      <th>EVENT_TYPE</th>\n",
       "      <th>IMPRESSION</th>\n",
       "      <th>ITEM_ID</th>\n",
       "      <th>TIMESTAMP</th>\n",
       "      <th>USER_ID</th>\n",
       "    </tr>\n",
       "  </thead>\n",
       "  <tbody>\n",
       "    <tr>\n",
       "      <th>0</th>\n",
       "      <td>click</td>\n",
       "      <td>73|70|117|95|96|92|55|45|116|97|56|54|33|94|36...</td>\n",
       "      <td>73</td>\n",
       "      <td>1613526861</td>\n",
       "      <td>35</td>\n",
       "    </tr>\n",
       "    <tr>\n",
       "      <th>1</th>\n",
       "      <td>click</td>\n",
       "      <td>51|67|53|110|61|69|25|49|37|108|116|34|74|99|6...</td>\n",
       "      <td>53</td>\n",
       "      <td>1613530367</td>\n",
       "      <td>57</td>\n",
       "    </tr>\n",
       "  </tbody>\n",
       "</table>\n",
       "</div>"
      ],
      "text/plain": [
       "  EVENT_TYPE                                         IMPRESSION  ITEM_ID  \\\n",
       "0      click  73|70|117|95|96|92|55|45|116|97|56|54|33|94|36...       73   \n",
       "1      click  51|67|53|110|61|69|25|49|37|108|116|34|74|99|6...       53   \n",
       "\n",
       "    TIMESTAMP  USER_ID  \n",
       "0  1613526861       35  \n",
       "1  1613530367       57  "
      ]
     },
     "execution_count": 48,
     "metadata": {},
     "output_type": "execute_result"
    }
   ],
   "source": [
    "interactions_df.head(2)"
   ]
  },
  {
   "cell_type": "markdown",
   "metadata": {},
   "source": [
    "#### Dataset de Interactiones\n",
    "**ITEM_ID**: Elemento o producto correspondiente al EVENT_TYPE.\n",
    "\n",
    "**EVENT_TYPE**: Tipo de evento.\n",
    "\n",
    "**TIMESTAMP**: Marca de tiempo de la Interacción en milisegundos.\n",
    "\n",
    "**USER_ID**: ID de usuario correspondiente a esta impresión.\n",
    "\n",
    "**IMPRESSION:** Ahora, opcionalmente, puede pasar datos de impresiones junto con los datos de eventos en el conjunto de datos de interacción. Esto se pasa en un nuevo campo \"IMPRESSION\", como puede ver arriba, que toma una concatenación de los elementos con los que el usuario interactuó (por ejemplo, los elementos que se mostraron al usuario). Las impresiones también incluyen los elementos en los que se hizo clic. \n"
   ]
  },
  {
   "cell_type": "code",
   "execution_count": 49,
   "metadata": {},
   "outputs": [
    {
     "data": {
      "text/html": [
       "<div>\n",
       "<style scoped>\n",
       "    .dataframe tbody tr th:only-of-type {\n",
       "        vertical-align: middle;\n",
       "    }\n",
       "\n",
       "    .dataframe tbody tr th {\n",
       "        vertical-align: top;\n",
       "    }\n",
       "\n",
       "    .dataframe thead th {\n",
       "        text-align: right;\n",
       "    }\n",
       "</style>\n",
       "<table border=\"1\" class=\"dataframe\">\n",
       "  <thead>\n",
       "    <tr style=\"text-align: right;\">\n",
       "      <th></th>\n",
       "      <th>ITEM_ID</th>\n",
       "      <th>COMPONENTS</th>\n",
       "      <th>creation_timestamp</th>\n",
       "    </tr>\n",
       "  </thead>\n",
       "  <tbody>\n",
       "    <tr>\n",
       "      <th>0</th>\n",
       "      <td>44</td>\n",
       "      <td>clorhexidina|te-verde|semilla-de-arroz|conserv...</td>\n",
       "      <td>1582068720</td>\n",
       "    </tr>\n",
       "    <tr>\n",
       "      <th>1</th>\n",
       "      <td>169</td>\n",
       "      <td>tensoactivo-biodegradable|ph-5,5|mix-humectant...</td>\n",
       "      <td>1582068720</td>\n",
       "    </tr>\n",
       "  </tbody>\n",
       "</table>\n",
       "</div>"
      ],
      "text/plain": [
       "   ITEM_ID                                         COMPONENTS  \\\n",
       "0       44  clorhexidina|te-verde|semilla-de-arroz|conserv...   \n",
       "1      169  tensoactivo-biodegradable|ph-5,5|mix-humectant...   \n",
       "\n",
       "   creation_timestamp  \n",
       "0          1582068720  \n",
       "1          1582068720  "
      ]
     },
     "execution_count": 49,
     "metadata": {},
     "output_type": "execute_result"
    }
   ],
   "source": [
    "items_df.head(2)"
   ]
  },
  {
   "cell_type": "markdown",
   "metadata": {},
   "source": [
    "#### Dataset de Items\n",
    "\n",
    "El conjunto de datos de elementos contiene Item_ids y metadatos asociados.\n",
    "\n",
    "**ITEM_ID**: ID de artículo\n",
    "\n",
    "**compos** Metadatos del item, si hay varios componentes para el mismo elemento, (barra vertical \"|\" para concatenar).\n",
    "\n",
    "**creation_timestamp** Marca de tiempo cuando se agregó el elemento "
   ]
  },
  {
   "cell_type": "markdown",
   "metadata": {},
   "source": [
    "#### Actualizacion del timestamp\n",
    "\n",
    "Aquí vamos a actualizar el timestamp de nuestro dataset a 8 días a partir de hoy para mostrar el impacto de las interacciones en tiempo real en nuestras recomendaciones. "
   ]
  },
  {
   "cell_type": "code",
   "execution_count": 50,
   "metadata": {},
   "outputs": [],
   "source": [
    "current_time = int(time.time())\n",
    "one_hour_ago = current_time - 8 * 24 * 60 * 60\n",
    "# Get the time gap between the latest timestamp in the interaction and the current time \n",
    "interactions_df = interactions_df.astype({\"TIMESTAMP\": 'int64'})\n",
    "latest_time_in_csv = interactions_df[\"TIMESTAMP\"].max()\n",
    "delta = one_hour_ago - latest_time_in_csv"
   ]
  },
  {
   "cell_type": "code",
   "execution_count": 51,
   "metadata": {},
   "outputs": [],
   "source": [
    "# shift the latest timestamp in the interactions_df to be the last hour timestamp\n",
    "interactions_df.TIMESTAMP = interactions_df.TIMESTAMP + delta\n",
    "interactions_df.to_csv(os.getcwd() + \"/interaction.csv\", index = False)\n",
    "\n",
    "# shift the latest timestamp in the items_df to be the last hour timestamp\n",
    "items_df = items_df.astype({\"creation_timestamp\": 'int64'})\n",
    "items_df.creation_timestamp = items_df.creation_timestamp + delta\n",
    "items_df.to_csv(os.getcwd() + \"/items.csv\", index = False)"
   ]
  },
  {
   "cell_type": "markdown",
   "metadata": {},
   "source": [
    "#### Revisamos nuevamente los datasets"
   ]
  },
  {
   "cell_type": "code",
   "execution_count": 52,
   "metadata": {},
   "outputs": [
    {
     "data": {
      "text/html": [
       "<div>\n",
       "<style scoped>\n",
       "    .dataframe tbody tr th:only-of-type {\n",
       "        vertical-align: middle;\n",
       "    }\n",
       "\n",
       "    .dataframe tbody tr th {\n",
       "        vertical-align: top;\n",
       "    }\n",
       "\n",
       "    .dataframe thead th {\n",
       "        text-align: right;\n",
       "    }\n",
       "</style>\n",
       "<table border=\"1\" class=\"dataframe\">\n",
       "  <thead>\n",
       "    <tr style=\"text-align: right;\">\n",
       "      <th></th>\n",
       "      <th>EVENT_TYPE</th>\n",
       "      <th>IMPRESSION</th>\n",
       "      <th>ITEM_ID</th>\n",
       "      <th>TIMESTAMP</th>\n",
       "      <th>USER_ID</th>\n",
       "    </tr>\n",
       "  </thead>\n",
       "  <tbody>\n",
       "    <tr>\n",
       "      <th>0</th>\n",
       "      <td>click</td>\n",
       "      <td>73|70|117|95|96|92|55|45|116|97|56|54|33|94|36...</td>\n",
       "      <td>73</td>\n",
       "      <td>1613528141</td>\n",
       "      <td>35</td>\n",
       "    </tr>\n",
       "    <tr>\n",
       "      <th>1</th>\n",
       "      <td>click</td>\n",
       "      <td>51|67|53|110|61|69|25|49|37|108|116|34|74|99|6...</td>\n",
       "      <td>53</td>\n",
       "      <td>1613531647</td>\n",
       "      <td>57</td>\n",
       "    </tr>\n",
       "  </tbody>\n",
       "</table>\n",
       "</div>"
      ],
      "text/plain": [
       "  EVENT_TYPE                                         IMPRESSION  ITEM_ID  \\\n",
       "0      click  73|70|117|95|96|92|55|45|116|97|56|54|33|94|36...       73   \n",
       "1      click  51|67|53|110|61|69|25|49|37|108|116|34|74|99|6...       53   \n",
       "\n",
       "    TIMESTAMP  USER_ID  \n",
       "0  1613528141       35  \n",
       "1  1613531647       57  "
      ]
     },
     "execution_count": 52,
     "metadata": {},
     "output_type": "execute_result"
    }
   ],
   "source": [
    "interactions_df.head(2)"
   ]
  },
  {
   "cell_type": "code",
   "execution_count": 53,
   "metadata": {},
   "outputs": [
    {
     "data": {
      "text/html": [
       "<div>\n",
       "<style scoped>\n",
       "    .dataframe tbody tr th:only-of-type {\n",
       "        vertical-align: middle;\n",
       "    }\n",
       "\n",
       "    .dataframe tbody tr th {\n",
       "        vertical-align: top;\n",
       "    }\n",
       "\n",
       "    .dataframe thead th {\n",
       "        text-align: right;\n",
       "    }\n",
       "</style>\n",
       "<table border=\"1\" class=\"dataframe\">\n",
       "  <thead>\n",
       "    <tr style=\"text-align: right;\">\n",
       "      <th></th>\n",
       "      <th>ITEM_ID</th>\n",
       "      <th>COMPONENTS</th>\n",
       "      <th>creation_timestamp</th>\n",
       "    </tr>\n",
       "  </thead>\n",
       "  <tbody>\n",
       "    <tr>\n",
       "      <th>0</th>\n",
       "      <td>44</td>\n",
       "      <td>clorhexidina|te-verde|semilla-de-arroz|conserv...</td>\n",
       "      <td>1582070000</td>\n",
       "    </tr>\n",
       "    <tr>\n",
       "      <th>1</th>\n",
       "      <td>169</td>\n",
       "      <td>tensoactivo-biodegradable|ph-5,5|mix-humectant...</td>\n",
       "      <td>1582070000</td>\n",
       "    </tr>\n",
       "  </tbody>\n",
       "</table>\n",
       "</div>"
      ],
      "text/plain": [
       "   ITEM_ID                                         COMPONENTS  \\\n",
       "0       44  clorhexidina|te-verde|semilla-de-arroz|conserv...   \n",
       "1      169  tensoactivo-biodegradable|ph-5,5|mix-humectant...   \n",
       "\n",
       "   creation_timestamp  \n",
       "0          1582070000  \n",
       "1          1582070000  "
      ]
     },
     "execution_count": 53,
     "metadata": {},
     "output_type": "execute_result"
    }
   ],
   "source": [
    "items_df.head(2)"
   ]
  },
  {
   "cell_type": "markdown",
   "metadata": {},
   "source": [
    "\n",
    "### 2. Ingesta de data a Amazon Personalize\n",
    "Ahora vamos a crear un grupo de conjuntos de datos, crear un Schema, cargar los datasets, crear un trabajo o datasetImport Job."
   ]
  },
  {
   "cell_type": "markdown",
   "metadata": {},
   "source": [
    "#### a. Crear un DatasetGroup"
   ]
  },
  {
   "cell_type": "code",
   "execution_count": 54,
   "metadata": {},
   "outputs": [],
   "source": [
    "create_dataset_group_response = personalize.create_dataset_group(\n",
    "    name = dataset_group_name\n",
    ")\n",
    "dataset_group_arn = create_dataset_group_response['datasetGroupArn']"
   ]
  },
  {
   "cell_type": "code",
   "execution_count": 55,
   "metadata": {},
   "outputs": [
    {
     "name": "stdout",
     "output_type": "stream",
     "text": [
      "dataset_group_arn : arn:aws:personalize:us-east-1:090793147312:dataset-group/user-personalization-30585\n"
     ]
    }
   ],
   "source": [
    "print('dataset_group_arn : {}'.format(dataset_group_arn))"
   ]
  },
  {
   "cell_type": "code",
   "execution_count": 56,
   "metadata": {},
   "outputs": [
    {
     "name": "stdout",
     "output_type": "stream",
     "text": [
      "DatasetGroup: ACTIVE\n"
     ]
    }
   ],
   "source": [
    "status = None\n",
    "max_time = time.time() + 3*60*60 # 3 hours\n",
    "while time.time() < max_time:\n",
    "    describe_dataset_group_response = personalize.describe_dataset_group(\n",
    "        datasetGroupArn = dataset_group_arn\n",
    "    )\n",
    "    status = describe_dataset_group_response[\"datasetGroup\"][\"status\"]\n",
    "    print(\"DatasetGroup: {}\".format(status))\n",
    "    \n",
    "    if status == \"ACTIVE\" or status == \"CREATE FAILED\":\n",
    "        break\n",
    "        \n",
    "    time.sleep(20)"
   ]
  },
  {
   "cell_type": "markdown",
   "metadata": {},
   "source": [
    "#### b. Crear un Schema Dataset para los items y las interacciones\n",
    "\n",
    "> **_NOTE:_**: `Impression` field has a type String and uses a piped concatination for multiple values."
   ]
  },
  {
   "cell_type": "code",
   "execution_count": 57,
   "metadata": {},
   "outputs": [],
   "source": [
    "interaction_schema = {\n",
    "    \"type\": \"record\",\n",
    "    \"name\": \"Interactions\",\n",
    "    \"namespace\": \"com.amazonaws.personalize.schema\",\n",
    "    \"fields\": [\n",
    "        { \n",
    "            \"name\": \"EVENT_TYPE\",\n",
    "            \"type\": \"string\"\n",
    "        },\n",
    "        {\n",
    "            \"name\": \"IMPRESSION\",\n",
    "            \"type\": \"string\"\n",
    "        },\n",
    "        {\n",
    "            \"name\": \"ITEM_ID\",\n",
    "            \"type\": \"string\"\n",
    "        },\n",
    "        {\n",
    "            \"name\": \"TIMESTAMP\",\n",
    "            \"type\": \"long\"\n",
    "        },\n",
    "        {\n",
    "            \"name\": \"USER_ID\",\n",
    "            \"type\": \"string\"\n",
    "        },\n",
    "    ],\n",
    "    \"version\": \"1.0\"\n",
    "}"
   ]
  },
  {
   "cell_type": "code",
   "execution_count": 58,
   "metadata": {},
   "outputs": [
    {
     "name": "stdout",
     "output_type": "stream",
     "text": [
      "interaction_schema_arn:\n",
      " arn:aws:personalize:us-east-1:090793147312:schema/user-personalization-interaction-30585\n"
     ]
    }
   ],
   "source": [
    "interaction_schema_response = personalize.create_schema(\n",
    "    name = interaction_schema_name,\n",
    "    schema = json.dumps(interaction_schema)\n",
    ")\n",
    "interaction_schema_arn = interaction_schema_response['schemaArn']\n",
    "print('interaction_schema_arn:\\n', interaction_schema_arn)"
   ]
  },
  {
   "cell_type": "code",
   "execution_count": 59,
   "metadata": {},
   "outputs": [
    {
     "name": "stdout",
     "output_type": "stream",
     "text": [
      "item_metadata_schema_arn:\n",
      " arn:aws:personalize:us-east-1:090793147312:schema/user-personalization-items-30585\n"
     ]
    }
   ],
   "source": [
    "item_metadata_schema = {\n",
    "    \"type\": \"record\",\n",
    "    \"name\": \"Items\",\n",
    "    \"namespace\": \"com.amazonaws.personalize.schema\",\n",
    "    \"fields\": [\n",
    "    {\n",
    "        \"name\": \"ITEM_ID\",\n",
    "        \"type\": \"string\"\n",
    "    },\n",
    "    {\n",
    "        \"name\": \"COMPOS\",\n",
    "        \"type\": \"string\",\n",
    "        \"categorical\": True\n",
    "    },\n",
    "    {\n",
    "        \"name\": \"CREATION_TIMESTAMP\",\n",
    "        \"type\": \"long\"\n",
    "    }\n",
    "    ],\n",
    "    \"version\": \"1.0\"\n",
    "}\n",
    "\n",
    "item_metadata_schema_response = personalize.create_schema(\n",
    "    name = item_metadata_schema_name,\n",
    "    schema = json.dumps(item_metadata_schema)\n",
    ")\n",
    "\n",
    "item_metadata_schema_arn = item_metadata_schema_response['schemaArn']\n",
    "print('item_metadata_schema_arn:\\n', item_metadata_schema_arn)"
   ]
  },
  {
   "cell_type": "markdown",
   "metadata": {},
   "source": [
    "#### c. Crear los Datasets"
   ]
  },
  {
   "cell_type": "code",
   "execution_count": 60,
   "metadata": {},
   "outputs": [
    {
     "name": "stdout",
     "output_type": "stream",
     "text": [
      "interaction_dataset_arn:\n",
      " arn:aws:personalize:us-east-1:090793147312:dataset/user-personalization-30585/INTERACTIONS\n",
      "item_metadata_dataset_arn:\n",
      " arn:aws:personalize:us-east-1:090793147312:dataset/user-personalization-30585/ITEMS\n"
     ]
    }
   ],
   "source": [
    "interactions_dataset_response = personalize.create_dataset(\n",
    "    datasetType = 'INTERACTIONS',\n",
    "    datasetGroupArn = dataset_group_arn,\n",
    "    schemaArn = interaction_schema_arn,\n",
    "    name = interaction_dataset_name\n",
    ")\n",
    "interaction_dataset_arn = interactions_dataset_response['datasetArn']\n",
    "\n",
    "print('interaction_dataset_arn:\\n', interaction_dataset_arn)\n",
    "\n",
    "items_dataset_response = personalize.create_dataset(\n",
    "    datasetType = 'ITEMS',\n",
    "    datasetGroupArn = dataset_group_arn,\n",
    "    schemaArn = item_metadata_schema_arn,\n",
    "    name = item_metadata_dataset_name\n",
    ")\n",
    "item_metadata_dataset_arn = items_dataset_response['datasetArn']\n",
    "\n",
    "print('item_metadata_dataset_arn:\\n', item_metadata_dataset_arn)"
   ]
  },
  {
   "cell_type": "markdown",
   "metadata": {},
   "source": [
    "#### d. Cargar los datasets al S3 bucket, configuracion S3 Bucket policy, IAM Role, etc.,\n",
    "\n",
    "Necesitamos cargar estos datasets o puede proporcionar el nombre del bucket donde ya tiene los conjuntos de datos "
   ]
  },
  {
   "cell_type": "code",
   "execution_count": 61,
   "metadata": {},
   "outputs": [
    {
     "name": "stdout",
     "output_type": "stream",
     "text": [
      "us-east-1\n"
     ]
    }
   ],
   "source": [
    "s3_bucket_name\n",
    "print(region_name)"
   ]
  },
  {
   "cell_type": "code",
   "execution_count": 62,
   "metadata": {},
   "outputs": [
    {
     "data": {
      "text/plain": [
       "{'ResponseMetadata': {'RequestId': 'BR7PBN5N1N5Z9MAM',\n",
       "  'HostId': 'amESBZ8DOOjDsyHWNllipZmVKPs2PmxIUwQHsOduOHXGJnKxR4IRUlfz9gKBcfYp+kLrsfF+fqk=',\n",
       "  'HTTPStatusCode': 200,\n",
       "  'HTTPHeaders': {'x-amz-id-2': 'amESBZ8DOOjDsyHWNllipZmVKPs2PmxIUwQHsOduOHXGJnKxR4IRUlfz9gKBcfYp+kLrsfF+fqk=',\n",
       "   'x-amz-request-id': 'BR7PBN5N1N5Z9MAM',\n",
       "   'date': 'Thu, 25 Feb 2021 06:15:55 GMT',\n",
       "   'location': 'http://user-personalization-30585.s3.amazonaws.com/',\n",
       "   'content-length': '0',\n",
       "   'server': 'AmazonS3'},\n",
       "  'RetryAttempts': 0},\n",
       " 'Location': 'http://user-personalization-30585.s3.amazonaws.com/'}"
      ]
     },
     "execution_count": 62,
     "metadata": {},
     "output_type": "execute_result"
    }
   ],
   "source": [
    "s3_client.create_bucket(Bucket=s3_bucket_name,\n",
    "                          CreateBucketConfiguration={\n",
    "                              'LocationConstraint': 'eu-west-1'})"
   ]
  },
  {
   "cell_type": "code",
   "execution_count": 63,
   "metadata": {},
   "outputs": [],
   "source": [
    "interactions_file = os.getcwd() + \"/interaction.csv\"\n",
    "items_metadata_file = os.getcwd() + \"/items.csv\""
   ]
  },
  {
   "cell_type": "code",
   "execution_count": 64,
   "metadata": {},
   "outputs": [],
   "source": [
    "s3_client.upload_file(Filename=interactions_file, Bucket=s3_bucket_name,\n",
    "    Key=\"interaction.csv\")\n",
    "s3_client.upload_file(Filename=items_metadata_file, Bucket=s3_bucket_name,\n",
    "    Key=\"items.csv\")"
   ]
  },
  {
   "cell_type": "markdown",
   "metadata": {},
   "source": [
    "#### e. Agregar politicas de seguridad al bucket S3 "
   ]
  },
  {
   "cell_type": "code",
   "execution_count": 65,
   "metadata": {},
   "outputs": [],
   "source": [
    "policy = {\n",
    "    \"Version\": \"2012-10-17\",\n",
    "    \"Id\": \"PersonalizeS3BucketAccessPolicy\",\n",
    "    \"Statement\": [\n",
    "        {\n",
    "            \"Sid\": \"PersonalizeS3BucketAccessPolicy\",\n",
    "            \"Effect\": \"Allow\",\n",
    "            \"Principal\": {\n",
    "                \"Service\": \"personalize.amazonaws.com\"\n",
    "            },\n",
    "            \"Action\": [\n",
    "                \"s3:GetObject\",\n",
    "                \"s3:ListBucket\"\n",
    "            ],\n",
    "            \"Resource\": [\n",
    "                \"arn:aws:s3:::{}\".format(s3_bucket_name),\n",
    "                \"arn:aws:s3:::{}/*\".format(s3_bucket_name)\n",
    "            ]\n",
    "        }\n",
    "    ]\n",
    "}\n",
    "\n",
    "s3_client.put_bucket_policy(Bucket=s3_bucket_name, Policy=json.dumps(policy));"
   ]
  },
  {
   "cell_type": "markdown",
   "metadata": {},
   "source": [
    "#### f. Configurar el rol IAM para poder acceder a los datasets"
   ]
  },
  {
   "cell_type": "code",
   "execution_count": 66,
   "metadata": {},
   "outputs": [],
   "source": [
    "iam = boto3.client(service_name='iam', \n",
    "                         aws_access_key_id = accessKeyId, \n",
    "                         aws_secret_access_key = secretAccessKey)   \n",
    "\n",
    "\n",
    "role_name = \"PersonalizeS3Role-\"+suffix\n",
    "assume_role_policy_document = {\n",
    "    \"Version\": \"2012-10-17\",\n",
    "    \"Statement\": [\n",
    "        {\n",
    "          \"Effect\": \"Allow\",\n",
    "          \"Principal\": {\n",
    "            \"Service\": \"personalize.amazonaws.com\"\n",
    "          },\n",
    "          \"Action\": \"sts:AssumeRole\"\n",
    "        }\n",
    "    ]\n",
    "}\n",
    "try:\n",
    "    create_role_response = iam.create_role(\n",
    "        RoleName = role_name,\n",
    "        AssumeRolePolicyDocument = json.dumps(assume_role_policy_document)\n",
    "    );\n",
    "\n",
    "    iam.attach_role_policy(\n",
    "        RoleName = role_name,\n",
    "        PolicyArn = \"arn:aws:iam::aws:policy/AmazonS3ReadOnlyAccess\"\n",
    "    );\n",
    "\n",
    "    role_arn = create_role_response[\"Role\"][\"Arn\"]\n",
    "except ClientError as e:\n",
    "    if e.response['Error']['Code'] == 'EntityAlreadyExists':\n",
    "        role_arn = iam.get_role(RoleName=role_name)['Role']['Arn']\n",
    "    else:\n",
    "        raise"
   ]
  },
  {
   "cell_type": "code",
   "execution_count": 67,
   "metadata": {},
   "outputs": [
    {
     "name": "stdout",
     "output_type": "stream",
     "text": [
      "role_arn: arn:aws:iam::090793147312:role/PersonalizeS3Role-30585\n"
     ]
    }
   ],
   "source": [
    "print('role_arn:', role_arn)"
   ]
  },
  {
   "cell_type": "markdown",
   "metadata": {},
   "source": [
    "#### g. Crear DatasetImportJobs para cargar la data"
   ]
  },
  {
   "cell_type": "code",
   "execution_count": 69,
   "metadata": {},
   "outputs": [
    {
     "ename": "ResourceInUseException",
     "evalue": "An error occurred (ResourceInUseException) when calling the CreateDatasetImportJob operation: dataset is in PENDING or IN_PROGRESS status: arn:aws:personalize:us-east-1:090793147312:dataset/user-personalization-30585/INTERACTIONS",
     "output_type": "error",
     "traceback": [
      "\u001b[0;31m---------------------------------------------------------------------------\u001b[0m",
      "\u001b[0;31mResourceInUseException\u001b[0m                    Traceback (most recent call last)",
      "\u001b[0;32m<ipython-input-69-da95fa76b0cc>\u001b[0m in \u001b[0;36m<module>\u001b[0;34m\u001b[0m\n\u001b[1;32m      6\u001b[0m         \u001b[0;34m\"dataLocation\"\u001b[0m\u001b[0;34m:\u001b[0m \u001b[0;34m\"s3://{}/{}\"\u001b[0m\u001b[0;34m.\u001b[0m\u001b[0mformat\u001b[0m\u001b[0;34m(\u001b[0m\u001b[0ms3_bucket_name\u001b[0m\u001b[0;34m,\u001b[0m \u001b[0;34m'interaction.csv'\u001b[0m\u001b[0;34m)\u001b[0m\u001b[0;34m\u001b[0m\u001b[0;34m\u001b[0m\u001b[0m\n\u001b[1;32m      7\u001b[0m     },\n\u001b[0;32m----> 8\u001b[0;31m     \u001b[0mroleArn\u001b[0m \u001b[0;34m=\u001b[0m \u001b[0mrole_arn\u001b[0m\u001b[0;34m\u001b[0m\u001b[0;34m\u001b[0m\u001b[0m\n\u001b[0m\u001b[1;32m      9\u001b[0m )\n\u001b[1;32m     10\u001b[0m \u001b[0;34m\u001b[0m\u001b[0m\n",
      "\u001b[0;32m~/.local/lib/python3.6/site-packages/botocore/client.py\u001b[0m in \u001b[0;36m_api_call\u001b[0;34m(self, *args, **kwargs)\u001b[0m\n\u001b[1;32m    355\u001b[0m                     \"%s() only accepts keyword arguments.\" % py_operation_name)\n\u001b[1;32m    356\u001b[0m             \u001b[0;31m# The \"self\" in this scope is referring to the BaseClient.\u001b[0m\u001b[0;34m\u001b[0m\u001b[0;34m\u001b[0m\u001b[0;34m\u001b[0m\u001b[0m\n\u001b[0;32m--> 357\u001b[0;31m             \u001b[0;32mreturn\u001b[0m \u001b[0mself\u001b[0m\u001b[0;34m.\u001b[0m\u001b[0m_make_api_call\u001b[0m\u001b[0;34m(\u001b[0m\u001b[0moperation_name\u001b[0m\u001b[0;34m,\u001b[0m \u001b[0mkwargs\u001b[0m\u001b[0;34m)\u001b[0m\u001b[0;34m\u001b[0m\u001b[0;34m\u001b[0m\u001b[0m\n\u001b[0m\u001b[1;32m    358\u001b[0m \u001b[0;34m\u001b[0m\u001b[0m\n\u001b[1;32m    359\u001b[0m         \u001b[0m_api_call\u001b[0m\u001b[0;34m.\u001b[0m\u001b[0m__name__\u001b[0m \u001b[0;34m=\u001b[0m \u001b[0mstr\u001b[0m\u001b[0;34m(\u001b[0m\u001b[0mpy_operation_name\u001b[0m\u001b[0;34m)\u001b[0m\u001b[0;34m\u001b[0m\u001b[0;34m\u001b[0m\u001b[0m\n",
      "\u001b[0;32m~/.local/lib/python3.6/site-packages/botocore/client.py\u001b[0m in \u001b[0;36m_make_api_call\u001b[0;34m(self, operation_name, api_params)\u001b[0m\n\u001b[1;32m    674\u001b[0m             \u001b[0merror_code\u001b[0m \u001b[0;34m=\u001b[0m \u001b[0mparsed_response\u001b[0m\u001b[0;34m.\u001b[0m\u001b[0mget\u001b[0m\u001b[0;34m(\u001b[0m\u001b[0;34m\"Error\"\u001b[0m\u001b[0;34m,\u001b[0m \u001b[0;34m{\u001b[0m\u001b[0;34m}\u001b[0m\u001b[0;34m)\u001b[0m\u001b[0;34m.\u001b[0m\u001b[0mget\u001b[0m\u001b[0;34m(\u001b[0m\u001b[0;34m\"Code\"\u001b[0m\u001b[0;34m)\u001b[0m\u001b[0;34m\u001b[0m\u001b[0;34m\u001b[0m\u001b[0m\n\u001b[1;32m    675\u001b[0m             \u001b[0merror_class\u001b[0m \u001b[0;34m=\u001b[0m \u001b[0mself\u001b[0m\u001b[0;34m.\u001b[0m\u001b[0mexceptions\u001b[0m\u001b[0;34m.\u001b[0m\u001b[0mfrom_code\u001b[0m\u001b[0;34m(\u001b[0m\u001b[0merror_code\u001b[0m\u001b[0;34m)\u001b[0m\u001b[0;34m\u001b[0m\u001b[0;34m\u001b[0m\u001b[0m\n\u001b[0;32m--> 676\u001b[0;31m             \u001b[0;32mraise\u001b[0m \u001b[0merror_class\u001b[0m\u001b[0;34m(\u001b[0m\u001b[0mparsed_response\u001b[0m\u001b[0;34m,\u001b[0m \u001b[0moperation_name\u001b[0m\u001b[0;34m)\u001b[0m\u001b[0;34m\u001b[0m\u001b[0;34m\u001b[0m\u001b[0m\n\u001b[0m\u001b[1;32m    677\u001b[0m         \u001b[0;32melse\u001b[0m\u001b[0;34m:\u001b[0m\u001b[0;34m\u001b[0m\u001b[0;34m\u001b[0m\u001b[0m\n\u001b[1;32m    678\u001b[0m             \u001b[0;32mreturn\u001b[0m \u001b[0mparsed_response\u001b[0m\u001b[0;34m\u001b[0m\u001b[0;34m\u001b[0m\u001b[0m\n",
      "\u001b[0;31mResourceInUseException\u001b[0m: An error occurred (ResourceInUseException) when calling the CreateDatasetImportJob operation: dataset is in PENDING or IN_PROGRESS status: arn:aws:personalize:us-east-1:090793147312:dataset/user-personalization-30585/INTERACTIONS"
     ]
    }
   ],
   "source": [
    "time.sleep(20) # wait for RoleARN completion\n",
    "interactions_dij_response = personalize.create_dataset_import_job(\n",
    "    jobName =  prefix + 'interactions-dij-' + suffix,\n",
    "    datasetArn = interaction_dataset_arn,\n",
    "    dataSource = {\n",
    "        \"dataLocation\": \"s3://{}/{}\".format(s3_bucket_name, 'interaction.csv')\n",
    "    },\n",
    "    roleArn = role_arn\n",
    ")\n",
    "\n",
    "interactions_dij_arn = interactions_dij_response['datasetImportJobArn']\n",
    "print('interactions_dij_arn: ', interactions_dij_arn)\n",
    "#print(json.dumps(interactions_dij_arn, indent=2))\n",
    "\n",
    "items_dij_response = personalize.create_dataset_import_job(\n",
    "    jobName =  prefix + 'items-dij-' + suffix,\n",
    "    datasetArn = item_metadata_dataset_arn,\n",
    "    dataSource = {\n",
    "        \"dataLocation\": \"s3://{}/{}\".format(s3_bucket_name, 'items.csv')\n",
    "    },\n",
    "    roleArn = role_arn\n",
    ")\n",
    "\n",
    "items_dij_arn = items_dij_response['datasetImportJobArn']\n",
    "print('items_dij_arn:', items_dij_arn)"
   ]
  },
  {
   "cell_type": "code",
   "execution_count": 40,
   "metadata": {},
   "outputs": [
    {
     "name": "stdout",
     "output_type": "stream",
     "text": [
      "arn:aws:personalize:us-east-1:090793147312:dataset-import-job/user-personalization-interactions-dij-33727 : CREATE IN_PROGRESS\n",
      "arn:aws:personalize:us-east-1:090793147312:dataset-import-job/user-personalization-items-dij-33727 : CREATE IN_PROGRESS\n",
      "arn:aws:personalize:us-east-1:090793147312:dataset-import-job/user-personalization-interactions-dij-33727 : CREATE IN_PROGRESS\n",
      "arn:aws:personalize:us-east-1:090793147312:dataset-import-job/user-personalization-items-dij-33727 : CREATE IN_PROGRESS\n",
      "arn:aws:personalize:us-east-1:090793147312:dataset-import-job/user-personalization-interactions-dij-33727 : CREATE IN_PROGRESS\n",
      "arn:aws:personalize:us-east-1:090793147312:dataset-import-job/user-personalization-items-dij-33727 : CREATE IN_PROGRESS\n",
      "arn:aws:personalize:us-east-1:090793147312:dataset-import-job/user-personalization-interactions-dij-33727 : CREATE IN_PROGRESS\n",
      "arn:aws:personalize:us-east-1:090793147312:dataset-import-job/user-personalization-items-dij-33727 : CREATE IN_PROGRESS\n",
      "arn:aws:personalize:us-east-1:090793147312:dataset-import-job/user-personalization-interactions-dij-33727 : CREATE IN_PROGRESS\n",
      "arn:aws:personalize:us-east-1:090793147312:dataset-import-job/user-personalization-items-dij-33727 : CREATE IN_PROGRESS\n",
      "arn:aws:personalize:us-east-1:090793147312:dataset-import-job/user-personalization-interactions-dij-33727 : CREATE IN_PROGRESS\n",
      "arn:aws:personalize:us-east-1:090793147312:dataset-import-job/user-personalization-items-dij-33727 : CREATE IN_PROGRESS\n",
      "arn:aws:personalize:us-east-1:090793147312:dataset-import-job/user-personalization-interactions-dij-33727 : CREATE IN_PROGRESS\n",
      "arn:aws:personalize:us-east-1:090793147312:dataset-import-job/user-personalization-items-dij-33727 : CREATE IN_PROGRESS\n",
      "arn:aws:personalize:us-east-1:090793147312:dataset-import-job/user-personalization-interactions-dij-33727 : CREATE IN_PROGRESS\n",
      "arn:aws:personalize:us-east-1:090793147312:dataset-import-job/user-personalization-items-dij-33727 : CREATE IN_PROGRESS\n",
      "arn:aws:personalize:us-east-1:090793147312:dataset-import-job/user-personalization-interactions-dij-33727 : CREATE IN_PROGRESS\n",
      "arn:aws:personalize:us-east-1:090793147312:dataset-import-job/user-personalization-items-dij-33727 : CREATE IN_PROGRESS\n",
      "arn:aws:personalize:us-east-1:090793147312:dataset-import-job/user-personalization-interactions-dij-33727 : CREATE IN_PROGRESS\n",
      "arn:aws:personalize:us-east-1:090793147312:dataset-import-job/user-personalization-items-dij-33727 : CREATE IN_PROGRESS\n",
      "arn:aws:personalize:us-east-1:090793147312:dataset-import-job/user-personalization-interactions-dij-33727 : CREATE IN_PROGRESS\n",
      "arn:aws:personalize:us-east-1:090793147312:dataset-import-job/user-personalization-items-dij-33727 : CREATE IN_PROGRESS\n",
      "arn:aws:personalize:us-east-1:090793147312:dataset-import-job/user-personalization-interactions-dij-33727 : CREATE IN_PROGRESS\n",
      "arn:aws:personalize:us-east-1:090793147312:dataset-import-job/user-personalization-items-dij-33727 : CREATE IN_PROGRESS\n",
      "arn:aws:personalize:us-east-1:090793147312:dataset-import-job/user-personalization-interactions-dij-33727 : CREATE IN_PROGRESS\n",
      "arn:aws:personalize:us-east-1:090793147312:dataset-import-job/user-personalization-items-dij-33727 : CREATE IN_PROGRESS\n",
      "arn:aws:personalize:us-east-1:090793147312:dataset-import-job/user-personalization-interactions-dij-33727 : CREATE IN_PROGRESS\n",
      "arn:aws:personalize:us-east-1:090793147312:dataset-import-job/user-personalization-items-dij-33727 : CREATE IN_PROGRESS\n",
      "arn:aws:personalize:us-east-1:090793147312:dataset-import-job/user-personalization-interactions-dij-33727 : CREATE IN_PROGRESS\n",
      "arn:aws:personalize:us-east-1:090793147312:dataset-import-job/user-personalization-items-dij-33727 : CREATE IN_PROGRESS\n",
      "arn:aws:personalize:us-east-1:090793147312:dataset-import-job/user-personalization-interactions-dij-33727 : CREATE IN_PROGRESS\n",
      "arn:aws:personalize:us-east-1:090793147312:dataset-import-job/user-personalization-items-dij-33727 : CREATE IN_PROGRESS\n",
      "arn:aws:personalize:us-east-1:090793147312:dataset-import-job/user-personalization-interactions-dij-33727 : ACTIVE\n",
      "arn:aws:personalize:us-east-1:090793147312:dataset-import-job/user-personalization-items-dij-33727 : CREATE IN_PROGRESS\n",
      "arn:aws:personalize:us-east-1:090793147312:dataset-import-job/user-personalization-items-dij-33727 : ACTIVE\n"
     ]
    }
   ],
   "source": [
    "dataset_job_arns = [interactions_dij_arn, items_dij_arn]\n",
    "\n",
    "max_time = time.time() + 3*60*60 # 3 hours\n",
    "while time.time() < max_time and len(dataset_job_arns) != 0:\n",
    "    time.sleep(60)    \n",
    "    for dij_arn in dataset_job_arns:\n",
    "        describe_dataset_import_job_response = personalize.describe_dataset_import_job(\n",
    "            datasetImportJobArn = dij_arn\n",
    "        )\n",
    "        dataset_import_job = describe_dataset_import_job_response[\"datasetImportJob\"]\n",
    "        status = None\n",
    "        if \"latestDatasetImportJobRun\" not in dataset_import_job:\n",
    "            status = dataset_import_job[\"status\"]\n",
    "            print(\"{} : {}\".format(dij_arn, status))\n",
    "        else:\n",
    "            status = dataset_import_job[\"latestDatasetImportJobRun\"][\"status\"]\n",
    "            print(\"DIJ_ARN: {}, LatestDatasetImportJobRun: {}\".format(dij_arn, status))\n",
    "    \n",
    "        if status == \"ACTIVE\" or status == \"CREATE FAILED\":\n",
    "            dataset_job_arns.remove(dij_arn)\n"
   ]
  },
  {
   "cell_type": "markdown",
   "metadata": {},
   "source": [
    "### 3. Crear la Solution y la SolutionVersion\n",
    "\n",
    "We will create a solution with 'aws-user-personalization'. This recipe balances recommendations for new and old items delivered to users"
   ]
  },
  {
   "cell_type": "code",
   "execution_count": 41,
   "metadata": {},
   "outputs": [
    {
     "name": "stdout",
     "output_type": "stream",
     "text": [
      "solution_arn:  arn:aws:personalize:us-east-1:090793147312:solution/user-personalization-33727\n"
     ]
    }
   ],
   "source": [
    "recipe_arn = \"arn:aws:personalize:::recipe/aws-user-personalization\"\n",
    "max_time = time.time() + 3*60*60 # 3 hours\n",
    "create_solution_response = None\n",
    "while time.time() < max_time:\n",
    "\n",
    "    try:\n",
    "        create_solution_response = personalize.create_solution(name=solution_name, \n",
    "                                    recipeArn= recipe_arn, \n",
    "                                    datasetGroupArn = dataset_group_arn)\n",
    "\n",
    "        solution_arn = create_solution_response['solutionArn']\n",
    "        print('solution_arn: ', solution_arn)\n",
    "        break;\n",
    "    except personalize.exceptions.ClientError as e:\n",
    "        if 'EVENT_INTERACTIONS' not in str(e):\n",
    "            print(json.dumps(create_solution_response, indent=2))\n",
    "            print(e)\n",
    "            break"
   ]
  },
  {
   "cell_type": "raw",
   "metadata": {},
   "source": [
    "#### Crear SolutionVersion"
   ]
  },
  {
   "cell_type": "code",
   "execution_count": 42,
   "metadata": {},
   "outputs": [
    {
     "name": "stdout",
     "output_type": "stream",
     "text": [
      "solution_version_arn: arn:aws:personalize:us-east-1:090793147312:solution/user-personalization-33727/871da2cb\n"
     ]
    }
   ],
   "source": [
    "create_solution_version_response = personalize.create_solution_version(solutionArn = solution_arn)\n",
    "\n",
    "solution_version_arn = create_solution_version_response['solutionVersionArn']\n",
    "print('solution_version_arn:', solution_version_arn)"
   ]
  },
  {
   "cell_type": "code",
   "execution_count": 68,
   "metadata": {},
   "outputs": [
    {
     "ename": "ResourceNotFoundException",
     "evalue": "An error occurred (ResourceNotFoundException) when calling the GetSolutionMetrics operation: The given solution does not exist: arn:aws:personalize:us-east-1:090793147312:solution/user-personalization-33727/871da2cb",
     "output_type": "error",
     "traceback": [
      "\u001b[0;31m---------------------------------------------------------------------------\u001b[0m",
      "\u001b[0;31mResourceNotFoundException\u001b[0m                 Traceback (most recent call last)",
      "\u001b[0;32m<ipython-input-68-8ce4dada4e60>\u001b[0m in \u001b[0;36m<module>\u001b[0;34m\u001b[0m\n\u001b[1;32m      1\u001b[0m solutionMetrics = personalize.get_solution_metrics(\n\u001b[0;32m----> 2\u001b[0;31m     \u001b[0msolutionVersionArn\u001b[0m\u001b[0;34m=\u001b[0m\u001b[0msolution_version_arn\u001b[0m\u001b[0;34m\u001b[0m\u001b[0;34m\u001b[0m\u001b[0m\n\u001b[0m\u001b[1;32m      3\u001b[0m )\n\u001b[1;32m      4\u001b[0m \u001b[0mprint\u001b[0m\u001b[0;34m(\u001b[0m\u001b[0;34m'solutionMetrics'\u001b[0m\u001b[0;34m,\u001b[0m\u001b[0msolutionMetrics\u001b[0m\u001b[0;34m[\u001b[0m\u001b[0;34m'metrics'\u001b[0m\u001b[0;34m]\u001b[0m\u001b[0;34m)\u001b[0m\u001b[0;34m\u001b[0m\u001b[0;34m\u001b[0m\u001b[0m\n",
      "\u001b[0;32m~/.local/lib/python3.6/site-packages/botocore/client.py\u001b[0m in \u001b[0;36m_api_call\u001b[0;34m(self, *args, **kwargs)\u001b[0m\n\u001b[1;32m    355\u001b[0m                     \"%s() only accepts keyword arguments.\" % py_operation_name)\n\u001b[1;32m    356\u001b[0m             \u001b[0;31m# The \"self\" in this scope is referring to the BaseClient.\u001b[0m\u001b[0;34m\u001b[0m\u001b[0;34m\u001b[0m\u001b[0;34m\u001b[0m\u001b[0m\n\u001b[0;32m--> 357\u001b[0;31m             \u001b[0;32mreturn\u001b[0m \u001b[0mself\u001b[0m\u001b[0;34m.\u001b[0m\u001b[0m_make_api_call\u001b[0m\u001b[0;34m(\u001b[0m\u001b[0moperation_name\u001b[0m\u001b[0;34m,\u001b[0m \u001b[0mkwargs\u001b[0m\u001b[0;34m)\u001b[0m\u001b[0;34m\u001b[0m\u001b[0;34m\u001b[0m\u001b[0m\n\u001b[0m\u001b[1;32m    358\u001b[0m \u001b[0;34m\u001b[0m\u001b[0m\n\u001b[1;32m    359\u001b[0m         \u001b[0m_api_call\u001b[0m\u001b[0;34m.\u001b[0m\u001b[0m__name__\u001b[0m \u001b[0;34m=\u001b[0m \u001b[0mstr\u001b[0m\u001b[0;34m(\u001b[0m\u001b[0mpy_operation_name\u001b[0m\u001b[0;34m)\u001b[0m\u001b[0;34m\u001b[0m\u001b[0;34m\u001b[0m\u001b[0m\n",
      "\u001b[0;32m~/.local/lib/python3.6/site-packages/botocore/client.py\u001b[0m in \u001b[0;36m_make_api_call\u001b[0;34m(self, operation_name, api_params)\u001b[0m\n\u001b[1;32m    674\u001b[0m             \u001b[0merror_code\u001b[0m \u001b[0;34m=\u001b[0m \u001b[0mparsed_response\u001b[0m\u001b[0;34m.\u001b[0m\u001b[0mget\u001b[0m\u001b[0;34m(\u001b[0m\u001b[0;34m\"Error\"\u001b[0m\u001b[0;34m,\u001b[0m \u001b[0;34m{\u001b[0m\u001b[0;34m}\u001b[0m\u001b[0;34m)\u001b[0m\u001b[0;34m.\u001b[0m\u001b[0mget\u001b[0m\u001b[0;34m(\u001b[0m\u001b[0;34m\"Code\"\u001b[0m\u001b[0;34m)\u001b[0m\u001b[0;34m\u001b[0m\u001b[0;34m\u001b[0m\u001b[0m\n\u001b[1;32m    675\u001b[0m             \u001b[0merror_class\u001b[0m \u001b[0;34m=\u001b[0m \u001b[0mself\u001b[0m\u001b[0;34m.\u001b[0m\u001b[0mexceptions\u001b[0m\u001b[0;34m.\u001b[0m\u001b[0mfrom_code\u001b[0m\u001b[0;34m(\u001b[0m\u001b[0merror_code\u001b[0m\u001b[0;34m)\u001b[0m\u001b[0;34m\u001b[0m\u001b[0;34m\u001b[0m\u001b[0m\n\u001b[0;32m--> 676\u001b[0;31m             \u001b[0;32mraise\u001b[0m \u001b[0merror_class\u001b[0m\u001b[0;34m(\u001b[0m\u001b[0mparsed_response\u001b[0m\u001b[0;34m,\u001b[0m \u001b[0moperation_name\u001b[0m\u001b[0;34m)\u001b[0m\u001b[0;34m\u001b[0m\u001b[0;34m\u001b[0m\u001b[0m\n\u001b[0m\u001b[1;32m    677\u001b[0m         \u001b[0;32melse\u001b[0m\u001b[0;34m:\u001b[0m\u001b[0;34m\u001b[0m\u001b[0;34m\u001b[0m\u001b[0m\n\u001b[1;32m    678\u001b[0m             \u001b[0;32mreturn\u001b[0m \u001b[0mparsed_response\u001b[0m\u001b[0;34m\u001b[0m\u001b[0;34m\u001b[0m\u001b[0m\n",
      "\u001b[0;31mResourceNotFoundException\u001b[0m: An error occurred (ResourceNotFoundException) when calling the GetSolutionMetrics operation: The given solution does not exist: arn:aws:personalize:us-east-1:090793147312:solution/user-personalization-33727/871da2cb"
     ]
    }
   ],
   "source": [
    "solutionMetrics = personalize.get_solution_metrics(\n",
    "    solutionVersionArn=solution_version_arn\n",
    ")\n",
    "print('solutionMetrics',solutionMetrics['metrics'])"
   ]
  },
  {
   "cell_type": "code",
   "execution_count": 43,
   "metadata": {},
   "outputs": [
    {
     "name": "stdout",
     "output_type": "stream",
     "text": [
      "SolutionVersion: CREATE PENDING\n",
      "SolutionVersion: CREATE IN_PROGRESS\n",
      "SolutionVersion: CREATE IN_PROGRESS\n",
      "SolutionVersion: CREATE IN_PROGRESS\n",
      "SolutionVersion: CREATE IN_PROGRESS\n",
      "SolutionVersion: CREATE IN_PROGRESS\n",
      "SolutionVersion: CREATE IN_PROGRESS\n",
      "SolutionVersion: CREATE IN_PROGRESS\n",
      "SolutionVersion: CREATE IN_PROGRESS\n",
      "SolutionVersion: CREATE IN_PROGRESS\n",
      "SolutionVersion: CREATE IN_PROGRESS\n",
      "SolutionVersion: CREATE IN_PROGRESS\n",
      "SolutionVersion: CREATE IN_PROGRESS\n",
      "SolutionVersion: CREATE IN_PROGRESS\n",
      "SolutionVersion: CREATE IN_PROGRESS\n",
      "SolutionVersion: CREATE IN_PROGRESS\n",
      "SolutionVersion: CREATE IN_PROGRESS\n",
      "SolutionVersion: CREATE IN_PROGRESS\n",
      "SolutionVersion: CREATE IN_PROGRESS\n",
      "SolutionVersion: CREATE IN_PROGRESS\n",
      "SolutionVersion: CREATE IN_PROGRESS\n",
      "SolutionVersion: CREATE IN_PROGRESS\n",
      "SolutionVersion: CREATE IN_PROGRESS\n",
      "SolutionVersion: CREATE IN_PROGRESS\n",
      "SolutionVersion: CREATE IN_PROGRESS\n",
      "SolutionVersion: CREATE IN_PROGRESS\n",
      "SolutionVersion: CREATE IN_PROGRESS\n",
      "SolutionVersion: CREATE IN_PROGRESS\n",
      "SolutionVersion: CREATE IN_PROGRESS\n",
      "SolutionVersion: CREATE IN_PROGRESS\n",
      "SolutionVersion: CREATE IN_PROGRESS\n",
      "SolutionVersion: CREATE IN_PROGRESS\n",
      "SolutionVersion: CREATE IN_PROGRESS\n",
      "SolutionVersion: CREATE IN_PROGRESS\n",
      "SolutionVersion: CREATE IN_PROGRESS\n",
      "SolutionVersion: CREATE IN_PROGRESS\n",
      "SolutionVersion: CREATE IN_PROGRESS\n",
      "SolutionVersion: CREATE IN_PROGRESS\n",
      "SolutionVersion: CREATE IN_PROGRESS\n",
      "SolutionVersion: CREATE IN_PROGRESS\n",
      "SolutionVersion: CREATE IN_PROGRESS\n",
      "SolutionVersion: CREATE IN_PROGRESS\n",
      "SolutionVersion: CREATE IN_PROGRESS\n",
      "SolutionVersion: ACTIVE\n"
     ]
    }
   ],
   "source": [
    "status = None\n",
    "max_time = time.time() + 3*60*60 # 3 hours\n",
    "while time.time() < max_time:\n",
    "    describe_solution_version_response = personalize.describe_solution_version(\n",
    "        solutionVersionArn = solution_version_arn\n",
    "    )\n",
    "    status = describe_solution_version_response[\"solutionVersion\"][\"status\"]\n",
    "    print(\"SolutionVersion: {}\".format(status))\n",
    "    \n",
    "    if status == \"ACTIVE\" or status == \"CREATE FAILED\":\n",
    "        break\n",
    "        \n",
    "    time.sleep(60)"
   ]
  },
  {
   "cell_type": "markdown",
   "metadata": {},
   "source": [
    "### 4. Crear la campaña\n",
    "When creating the campaign, we can set the itemExplorationConfig to configure cold-items exploration weight and also exploration age cut-off. For now, we can set higher explorationWeight as 0.9 and explorationItemAgeCutOff to 7, so we think all the item creation time less then 7 days would be considered as cold item, we would do more exploration on those new items."
   ]
  },
  {
   "cell_type": "markdown",
   "metadata": {},
   "source": [
    "#### Crear la campaña"
   ]
  },
  {
   "cell_type": "code",
   "execution_count": 44,
   "metadata": {
    "scrolled": true
   },
   "outputs": [
    {
     "name": "stdout",
     "output_type": "stream",
     "text": [
      "campaign_arn: arn:aws:personalize:us-east-1:090793147312:campaign/user-personalization-33727\n"
     ]
    }
   ],
   "source": [
    "create_campaign_response = personalize.create_campaign(\n",
    "    name = prefix + suffix,\n",
    "    solutionVersionArn = solution_version_arn,\n",
    "    minProvisionedTPS = 1,\n",
    "    campaignConfig = {\n",
    "        \"itemExplorationConfig\": {\n",
    "            \"explorationWeight\": \"0.9\",\n",
    "            \"explorationItemAgeCutOff\": \"7\"\n",
    "        }\n",
    "    }\n",
    ")\n",
    "\n",
    "campaign_arn = create_campaign_response['campaignArn']\n",
    "print('campaign_arn:', campaign_arn)"
   ]
  },
  {
   "cell_type": "code",
   "execution_count": 45,
   "metadata": {},
   "outputs": [
    {
     "name": "stdout",
     "output_type": "stream",
     "text": [
      "Campaign: CREATE PENDING\n",
      "Campaign: CREATE IN_PROGRESS\n",
      "Campaign: CREATE IN_PROGRESS\n",
      "Campaign: CREATE IN_PROGRESS\n",
      "Campaign: CREATE IN_PROGRESS\n",
      "Campaign: CREATE IN_PROGRESS\n",
      "Campaign: CREATE IN_PROGRESS\n",
      "Campaign: CREATE IN_PROGRESS\n",
      "Campaign: ACTIVE\n"
     ]
    }
   ],
   "source": [
    "status = None\n",
    "max_time = time.time() + 3*60*60 # 3 hours\n",
    "while time.time() < max_time:\n",
    "    describe_campaign_response = personalize.describe_campaign(\n",
    "        campaignArn = campaign_arn\n",
    "    )\n",
    "    status = describe_campaign_response[\"campaign\"][\"status\"]\n",
    "    print(\"Campaign: {}\".format(status))\n",
    "    \n",
    "    if status == \"ACTIVE\" or status == \"CREATE FAILED\":\n",
    "        break\n",
    "        \n",
    "    time.sleep(60)"
   ]
  },
  {
   "cell_type": "code",
   "execution_count": 46,
   "metadata": {},
   "outputs": [
    {
     "data": {
      "text/plain": [
       "{'name': 'user-personalization-33727',\n",
       " 'campaignArn': 'arn:aws:personalize:us-east-1:090793147312:campaign/user-personalization-33727',\n",
       " 'solutionVersionArn': 'arn:aws:personalize:us-east-1:090793147312:solution/user-personalization-33727/871da2cb',\n",
       " 'minProvisionedTPS': 1,\n",
       " 'campaignConfig': {'itemExplorationConfig': {'explorationItemAgeCutOff': '7',\n",
       "   'explorationWeight': '0.9'}},\n",
       " 'status': 'ACTIVE',\n",
       " 'creationDateTime': datetime.datetime(2021, 2, 24, 19, 25, 58, 212000, tzinfo=tzlocal()),\n",
       " 'lastUpdatedDateTime': datetime.datetime(2021, 2, 24, 19, 33, 59, 115000, tzinfo=tzlocal())}"
      ]
     },
     "execution_count": 46,
     "metadata": {},
     "output_type": "execute_result"
    }
   ],
   "source": [
    "describe_campaign_response = personalize.describe_campaign(campaignArn = campaign_arn)\n",
    "campaign_summary = describe_campaign_response[\"campaign\"]\n",
    "campaign_summary"
   ]
  },
  {
   "cell_type": "markdown",
   "metadata": {},
   "source": [
    "### 5. Llamar al API GetRecommendations\n",
    "usaremos Userids en el conjunto de datos de entrada para realizar llamadas getRecommendation. \n",
    "> **NOTA:**: En la respuesta, tiene un nuevo campo `RecommendationId` que corresponde a la lista de items devueltos al Personalizar GetRecommendations. Puede pasar este ID de recomendación para indicar las impresiones.\n",
    "También puede pasar Impression como una concatenación de elementos de cadena canalizada, si pasa tanto el ID de recomendación como el ImpressionList, ImpressionList tendría prioridad y se usaría en el sistema. "
   ]
  },
  {
   "cell_type": "code",
   "execution_count": 47,
   "metadata": {
    "scrolled": false
   },
   "outputs": [
    {
     "name": "stdout",
     "output_type": "stream",
     "text": [
      "RID-44e4e871-7ea6-4564-9834-0a4561b58428\n"
     ]
    }
   ],
   "source": [
    "rec_response = personalize_runtime.get_recommendations(campaignArn = campaign_arn, userId = '30')\n",
    "print(rec_response['recommendationId'])"
   ]
  },
  {
   "cell_type": "code",
   "execution_count": 48,
   "metadata": {},
   "outputs": [
    {
     "data": {
      "text/plain": [
       "[{'itemId': '107', 'score': 0.9224489},\n",
       " {'itemId': '55', 'score': 0.0032061},\n",
       " {'itemId': '90', 'score': 0.0027928},\n",
       " {'itemId': '30', 'score': 0.002632},\n",
       " {'itemId': '69', 'score': 0.0020405},\n",
       " {'itemId': '27', 'score': 0.0019647},\n",
       " {'itemId': '88', 'score': 0.0019115},\n",
       " {'itemId': '12', 'score': 0.0017613},\n",
       " {'itemId': '0', 'score': 0.0017079},\n",
       " {'itemId': '19', 'score': 0.0016789},\n",
       " {'itemId': '13', 'score': 0.0016433},\n",
       " {'itemId': '16', 'score': 0.001625},\n",
       " {'itemId': '31', 'score': 0.0015895},\n",
       " {'itemId': '40', 'score': 0.0015871},\n",
       " {'itemId': '80', 'score': 0.0015668},\n",
       " {'itemId': '81', 'score': 0.0015528},\n",
       " {'itemId': '42', 'score': 0.0015114},\n",
       " {'itemId': '93', 'score': 0.0014936},\n",
       " {'itemId': '72', 'score': 0.0014084},\n",
       " {'itemId': '9', 'score': 0.0013186},\n",
       " {'itemId': '95', 'score': 0.0011536},\n",
       " {'itemId': '5', 'score': 0.00112},\n",
       " {'itemId': '33', 'score': 0.0010739},\n",
       " {'itemId': '7', 'score': 0.0010727},\n",
       " {'itemId': '22', 'score': 0.0010619}]"
      ]
     },
     "execution_count": 48,
     "metadata": {},
     "output_type": "execute_result"
    }
   ],
   "source": [
    "rec_response['itemList']"
   ]
  },
  {
   "cell_type": "raw",
   "metadata": {},
   "source": [
    "### 6. Crear Event Tracker\n",
    "\n",
    "Crea un event tracker que se usa cuando envía datos de eventos al grupo de conjunto de datos especificado usando la API PutEvents. "
   ]
  },
  {
   "cell_type": "code",
   "execution_count": 49,
   "metadata": {
    "scrolled": true
   },
   "outputs": [
    {
     "name": "stdout",
     "output_type": "stream",
     "text": [
      "eventTrackerArn:arn:aws:personalize:us-east-1:090793147312:event-tracker/cb744e2c,\n",
      " eventTrackingId:c091681e-17b2-4024-87ec-455c37a9d02f\n"
     ]
    }
   ],
   "source": [
    "even_tracker_response = personalize.create_event_tracker( \n",
    "    name=event_tracker_name,\n",
    "    datasetGroupArn=dataset_group_arn\n",
    ")\n",
    "event_tracker_arn  = even_tracker_response['eventTrackerArn']\n",
    "event_tracking_id = even_tracker_response['trackingId']\n",
    "#print(json.dumps(even_tracker_response,indent=2))\n",
    "print('eventTrackerArn:{},\\n eventTrackingId:{}'.format(event_tracker_arn, event_tracking_id))"
   ]
  },
  {
   "cell_type": "markdown",
   "metadata": {},
   "source": [
    "### 7. Enviar datos de Impression a Amazon Personalize via PutEvents.\n",
    "Amazon Personalize puede modelar dos tipos de impresiones:\n",
    "1. Impresiones implícitas e impresiones explícitas. Las impresiones implícitas son impresiones que se producen durante la sesión de un usuario y Amazon Personalize las registra automáticamente cada vez que se muestra un artículo al usuario. Puede integrarlos en su flujo de trabajo de recomendaciones incluyendo el ID de recomendación (devuelto por las operaciones y) como entrada para futuras solicitudes de PutEvents.\n",
    "\n",
    "\n",
    "2. Las impresiones explícitas son impresiones que ingresa manualmente al realizar una solicitud PutEvents. Utilizaría Impresiones explícitas cuando, por ejemplo, no muestre algunos de los artículos devueltos por GetRecommendations debido a la falta de disponibilidad, etc.\n",
    "\n",
    "> **NOTA:** Si ha definido \"impresión\" en su esquema de interacción como se indicó anteriormente, debe enviar la lista de impresiones (ya sea los elementos devueltos por GetRecommendations o los suyos propios).\n",
    "** Cuando tanto el ID de recomendación como las Impresiones son, Amazon Personalize utilizará las impresiones explícitas de forma predeterminada. ** "
   ]
  },
  {
   "cell_type": "markdown",
   "metadata": {},
   "source": [
    "#### Pongamos el item recomendado anteriormente como impresiones. "
   ]
  },
  {
   "cell_type": "code",
   "execution_count": 50,
   "metadata": {
    "scrolled": false
   },
   "outputs": [
    {
     "data": {
      "text/plain": [
       "{'ResponseMetadata': {'RequestId': '75902dc8-b5ab-45ab-9dd6-7820692164ac',\n",
       "  'HTTPStatusCode': 200,\n",
       "  'HTTPHeaders': {'content-type': 'application/json',\n",
       "   'date': 'Thu, 25 Feb 2021 00:34:02 GMT',\n",
       "   'x-amzn-requestid': '75902dc8-b5ab-45ab-9dd6-7820692164ac',\n",
       "   'content-length': '0',\n",
       "   'connection': 'keep-alive'},\n",
       "  'RetryAttempts': 0}}"
      ]
     },
     "execution_count": 50,
     "metadata": {},
     "output_type": "execute_result"
    }
   ],
   "source": [
    "personalize_events.put_events(\n",
    "     trackingId = event_tracking_id,\n",
    "     userId= '30',\n",
    "     sessionId = '1',\n",
    "     eventList = [{\n",
    "     'sentAt': datetime.now().timestamp(),\n",
    "     'eventType' : 'click',\n",
    "     'itemId' : rec_response['itemList'][0]['itemId'],        \n",
    "     'recommendationId': rec_response['recommendationId'],\n",
    "     'impression': [item['itemId'] for item in rec_response['itemList']],\n",
    "     }]\n",
    "    )"
   ]
  },
  {
   "cell_type": "markdown",
   "metadata": {},
   "source": [
    "#### También podemos poner algunos elementos nuevos. \n",
    "\n",
    "Pongamos el nuevo itemId '3xx' en la personalización. "
   ]
  },
  {
   "cell_type": "code",
   "execution_count": 51,
   "metadata": {},
   "outputs": [
    {
     "data": {
      "text/plain": [
       "{'ResponseMetadata': {'RequestId': 'c1a0ab70-27d8-4c40-8fe2-5276596232a8',\n",
       "  'HTTPStatusCode': 200,\n",
       "  'HTTPHeaders': {'content-type': 'application/json',\n",
       "   'date': 'Thu, 25 Feb 2021 00:34:03 GMT',\n",
       "   'x-amzn-requestid': 'c1a0ab70-27d8-4c40-8fe2-5276596232a8',\n",
       "   'content-length': '0',\n",
       "   'connection': 'keep-alive'},\n",
       "  'RetryAttempts': 0}}"
      ]
     },
     "execution_count": 51,
     "metadata": {},
     "output_type": "execute_result"
    }
   ],
   "source": [
    "personalize_events.put_events(\n",
    "     trackingId = event_tracking_id,\n",
    "     userId= '30',\n",
    "     sessionId = '1',\n",
    "     eventList = [{\n",
    "         'sentAt': datetime.now().timestamp(),\n",
    "         'eventType' : 'click',\n",
    "         'itemId' : '340',\n",
    "     },\n",
    "     {\n",
    "         'sentAt': datetime.now().timestamp(),\n",
    "         'eventType' : 'click',\n",
    "         'itemId' : '341',\n",
    "     },\n",
    "     {\n",
    "         'sentAt': datetime.now().timestamp(),\n",
    "         'eventType' : 'click',\n",
    "         'itemId' : '342',\n",
    "     },\n",
    "     {\n",
    "         'sentAt': datetime.now().timestamp(),\n",
    "         'eventType' : 'click',\n",
    "         'itemId' : '343',\n",
    "     },\n",
    "     {\n",
    "         'sentAt': datetime.now().timestamp(),\n",
    "         'eventType' : 'click',\n",
    "         'itemId' : '344',\n",
    "     },\n",
    "     {\n",
    "         'sentAt': datetime.now().timestamp(),\n",
    "         'eventType' : 'click',\n",
    "         'itemId' : '345',\n",
    "     },\n",
    "     {\n",
    "         'sentAt': datetime.now().timestamp(),\n",
    "         'eventType' : 'click',\n",
    "         'itemId' : '346',\n",
    "     },\n",
    "     {\n",
    "         'sentAt': datetime.now().timestamp(),\n",
    "         'eventType' : 'click',\n",
    "         'itemId' : '347',\n",
    "     },\n",
    "     {\n",
    "         'sentAt': datetime.now().timestamp(),\n",
    "         'eventType' : 'click',\n",
    "         'itemId' : '348',\n",
    "     },\n",
    "     {\n",
    "         'sentAt': datetime.now().timestamp(),\n",
    "         'eventType' : 'click',\n",
    "         'itemId' : '349',\n",
    "     }]\n",
    "    )"
   ]
  },
  {
   "cell_type": "markdown",
   "metadata": {},
   "source": [
    "### 8. Crear una nueva SolutionVersion con updateMode\n",
    "\n",
    "Después de poner los eventos, espere unos 15 minutos para que Personalize ingiera los nuevos datos, luego cree una nueva solución Versión con modo de actualización "
   ]
  },
  {
   "cell_type": "code",
   "execution_count": 53,
   "metadata": {},
   "outputs": [
    {
     "name": "stdout",
     "output_type": "stream",
     "text": [
      "solution_version_after_update: arn:aws:personalize:us-east-1:090793147312:solution/user-personalization-33727/871da2cb\n"
     ]
    }
   ],
   "source": [
    "create_solution_version_response = personalize.create_solution_version(solutionArn = solution_arn, trainingMode = \"UPDATE\")\n",
    "\n",
    "solution_version_after_update = create_solution_version_response['solutionVersionArn']\n",
    "print('solution_version_after_update:', solution_version_arn)"
   ]
  },
  {
   "cell_type": "code",
   "execution_count": 54,
   "metadata": {},
   "outputs": [
    {
     "name": "stdout",
     "output_type": "stream",
     "text": [
      "SolutionVersion: CREATE PENDING\n",
      "SolutionVersion: CREATE IN_PROGRESS\n",
      "SolutionVersion: CREATE IN_PROGRESS\n",
      "SolutionVersion: CREATE IN_PROGRESS\n",
      "SolutionVersion: CREATE IN_PROGRESS\n",
      "SolutionVersion: CREATE IN_PROGRESS\n",
      "SolutionVersion: CREATE IN_PROGRESS\n",
      "SolutionVersion: CREATE IN_PROGRESS\n",
      "SolutionVersion: CREATE IN_PROGRESS\n",
      "SolutionVersion: CREATE IN_PROGRESS\n",
      "SolutionVersion: CREATE IN_PROGRESS\n",
      "SolutionVersion: CREATE IN_PROGRESS\n",
      "SolutionVersion: CREATE IN_PROGRESS\n",
      "SolutionVersion: CREATE IN_PROGRESS\n",
      "SolutionVersion: CREATE IN_PROGRESS\n",
      "SolutionVersion: CREATE IN_PROGRESS\n",
      "SolutionVersion: CREATE IN_PROGRESS\n",
      "SolutionVersion: CREATE IN_PROGRESS\n",
      "SolutionVersion: CREATE IN_PROGRESS\n",
      "SolutionVersion: CREATE IN_PROGRESS\n",
      "SolutionVersion: CREATE IN_PROGRESS\n",
      "SolutionVersion: CREATE IN_PROGRESS\n",
      "SolutionVersion: CREATE IN_PROGRESS\n",
      "SolutionVersion: CREATE IN_PROGRESS\n",
      "SolutionVersion: CREATE IN_PROGRESS\n",
      "SolutionVersion: CREATE IN_PROGRESS\n",
      "SolutionVersion: CREATE IN_PROGRESS\n",
      "SolutionVersion: CREATE IN_PROGRESS\n",
      "SolutionVersion: CREATE IN_PROGRESS\n",
      "SolutionVersion: CREATE IN_PROGRESS\n",
      "SolutionVersion: CREATE IN_PROGRESS\n",
      "SolutionVersion: CREATE IN_PROGRESS\n",
      "SolutionVersion: CREATE IN_PROGRESS\n",
      "SolutionVersion: ACTIVE\n"
     ]
    }
   ],
   "source": [
    "status = None\n",
    "max_time = time.time() + 3*60*60 # 3 hours\n",
    "while time.time() < max_time:\n",
    "    describe_solution_version_response = personalize.describe_solution_version(\n",
    "        solutionVersionArn = solution_version_after_update\n",
    "    )\n",
    "    status = describe_solution_version_response[\"solutionVersion\"][\"status\"]\n",
    "    print(\"SolutionVersion: {}\".format(status))\n",
    "    \n",
    "    if status == \"ACTIVE\" or status == \"CREATE FAILED\":\n",
    "        break\n",
    "        \n",
    "    time.sleep(60)"
   ]
  },
  {
   "cell_type": "markdown",
   "metadata": {},
   "source": [
    "### 9. Actualizando Campaña\n",
    "\n",
    "Actualice la campaña con la última versión de la solución arn de la actualización. "
   ]
  },
  {
   "cell_type": "code",
   "execution_count": 56,
   "metadata": {},
   "outputs": [
    {
     "name": "stdout",
     "output_type": "stream",
     "text": [
      "campaign_arn_response:  {'campaignArn': 'arn:aws:personalize:us-east-1:090793147312:campaign/user-personalization-33727', 'ResponseMetadata': {'RequestId': '142b9841-f564-432a-8cd4-5c4289cc146e', 'HTTPStatusCode': 200, 'HTTPHeaders': {'content-type': 'application/x-amz-json-1.1', 'date': 'Thu, 25 Feb 2021 02:11:54 GMT', 'x-amzn-requestid': '142b9841-f564-432a-8cd4-5c4289cc146e', 'content-length': '96', 'connection': 'keep-alive'}, 'RetryAttempts': 0}}\n"
     ]
    }
   ],
   "source": [
    "campaign_arn_response = personalize.update_campaign(campaignArn=campaign_arn, solutionVersionArn=solution_version_after_update)\n",
    "print('campaign_arn_response: ', campaign_arn_response)"
   ]
  },
  {
   "cell_type": "code",
   "execution_count": 57,
   "metadata": {},
   "outputs": [
    {
     "name": "stdout",
     "output_type": "stream",
     "text": [
      "Campaign solution version: arn:aws:personalize:us-east-1:090793147312:solution/user-personalization-33727/871da2cb\n",
      "Campaign solution version: arn:aws:personalize:us-east-1:090793147312:solution/user-personalization-33727/871da2cb\n",
      "Campaign solution version: arn:aws:personalize:us-east-1:090793147312:solution/user-personalization-33727/871da2cb\n",
      "Campaign solution version: arn:aws:personalize:us-east-1:090793147312:solution/user-personalization-33727/871da2cb\n",
      "Campaign solution version: arn:aws:personalize:us-east-1:090793147312:solution/user-personalization-33727/871da2cb\n",
      "Campaign solution version: arn:aws:personalize:us-east-1:090793147312:solution/user-personalization-33727/871da2cb\n",
      "Campaign solution version: arn:aws:personalize:us-east-1:090793147312:solution/user-personalization-33727/871da2cb\n",
      "Campaign solution version: arn:aws:personalize:us-east-1:090793147312:solution/user-personalization-33727/871da2cb\n",
      "Campaign solution version: arn:aws:personalize:us-east-1:090793147312:solution/user-personalization-33727/ea6bdef6\n"
     ]
    }
   ],
   "source": [
    "# Wait for campaign update to reflect the new solution-version\n",
    "solutionVersionArn = None\n",
    "max_time = time.time() + 3*60*60 # 3 hours\n",
    "while time.time() < max_time:\n",
    "    describe_campaign_response = personalize.describe_campaign(\n",
    "        campaignArn = campaign_arn\n",
    "    )\n",
    "    solutionVersionArn = describe_campaign_response[\"campaign\"][\"solutionVersionArn\"]\n",
    "    print(\"Campaign solution version: {}\".format(solutionVersionArn))\n",
    "    \n",
    "    if solutionVersionArn == solution_version_after_update:\n",
    "        break\n",
    "        \n",
    "    time.sleep(60)\n",
    "\n",
    "# wait 1 minutes\n",
    "time.sleep(60)"
   ]
  },
  {
   "cell_type": "code",
   "execution_count": 58,
   "metadata": {},
   "outputs": [
    {
     "data": {
      "text/plain": [
       "'arn:aws:personalize:us-east-1:090793147312:solution/user-personalization-33727/ea6bdef6'"
      ]
     },
     "execution_count": 58,
     "metadata": {},
     "output_type": "execute_result"
    }
   ],
   "source": [
    "desc_campaign_response = personalize.describe_campaign(campaignArn = campaign_arn)['campaign'][\"solutionVersionArn\"]\n",
    "desc_campaign_response"
   ]
  },
  {
   "cell_type": "markdown",
   "metadata": {},
   "source": [
    "### Después de actualizar la versión de la solución, hagamos la recomendación nuevamente. \n",
    "\n",
    "Esperamos que se muestren nuevos elementos en la recomendación, ya que establecemos la exploración alta en 0.9 "
   ]
  },
  {
   "cell_type": "code",
   "execution_count": 59,
   "metadata": {},
   "outputs": [],
   "source": [
    "rec_response = personalize_runtime.get_recommendations(campaignArn = campaign_arn, userId = '101')"
   ]
  },
  {
   "cell_type": "code",
   "execution_count": 60,
   "metadata": {},
   "outputs": [
    {
     "data": {
      "text/plain": [
       "[{'itemId': '240', 'score': 0.2856446},\n",
       " {'itemId': '249', 'score': 0.2368072},\n",
       " {'itemId': '245', 'score': 0.2039357},\n",
       " {'itemId': '246', 'score': 0.1362455},\n",
       " {'itemId': '241', 'score': 0.1355392},\n",
       " {'itemId': '243', 'score': 0.0002408},\n",
       " {'itemId': '247', 'score': 7.43e-05},\n",
       " {'itemId': '55', 'score': 7.13e-05},\n",
       " {'itemId': '30', 'score': 5.63e-05},\n",
       " {'itemId': '27', 'score': 4.22e-05},\n",
       " {'itemId': '16', 'score': 3.58e-05},\n",
       " {'itemId': '69', 'score': 3.49e-05},\n",
       " {'itemId': '40', 'score': 3.45e-05},\n",
       " {'itemId': '80', 'score': 3.36e-05},\n",
       " {'itemId': '31', 'score': 3.36e-05},\n",
       " {'itemId': '88', 'score': 3.23e-05},\n",
       " {'itemId': '42', 'score': 3.16e-05},\n",
       " {'itemId': '81', 'score': 3.11e-05},\n",
       " {'itemId': '13', 'score': 3.1e-05},\n",
       " {'itemId': '12', 'score': 3.07e-05},\n",
       " {'itemId': '90', 'score': 3.02e-05},\n",
       " {'itemId': '242', 'score': 2.83e-05},\n",
       " {'itemId': '19', 'score': 2.62e-05},\n",
       " {'itemId': '72', 'score': 2.51e-05},\n",
       " {'itemId': '93', 'score': 2.33e-05}]"
      ]
     },
     "execution_count": 60,
     "metadata": {},
     "output_type": "execute_result"
    }
   ],
   "source": [
    "rec_response['itemList']"
   ]
  },
  {
   "cell_type": "markdown",
   "metadata": {},
   "source": [
    "### Actualización de campaña con diferente explorationWeight\n",
    "\n",
    "We would expect more old items show in the recommendation list since we set a low explorationWeight."
   ]
  },
  {
   "cell_type": "code",
   "execution_count": 61,
   "metadata": {},
   "outputs": [
    {
     "data": {
      "text/plain": [
       "{'name': 'user-personalization-33727',\n",
       " 'campaignArn': 'arn:aws:personalize:us-east-1:090793147312:campaign/user-personalization-33727',\n",
       " 'solutionVersionArn': 'arn:aws:personalize:us-east-1:090793147312:solution/user-personalization-33727/ea6bdef6',\n",
       " 'minProvisionedTPS': 1,\n",
       " 'campaignConfig': {'itemExplorationConfig': {'explorationItemAgeCutOff': '7',\n",
       "   'explorationWeight': '0.9'}},\n",
       " 'status': 'ACTIVE',\n",
       " 'creationDateTime': datetime.datetime(2021, 2, 24, 19, 25, 58, 212000, tzinfo=tzlocal()),\n",
       " 'lastUpdatedDateTime': datetime.datetime(2021, 2, 24, 21, 19, 49, 633000, tzinfo=tzlocal()),\n",
       " 'latestCampaignUpdate': {'solutionVersionArn': 'arn:aws:personalize:us-east-1:090793147312:solution/user-personalization-33727/ea6bdef6',\n",
       "  'status': 'ACTIVE',\n",
       "  'creationDateTime': datetime.datetime(2021, 2, 24, 21, 11, 55, 117000, tzinfo=tzlocal()),\n",
       "  'lastUpdatedDateTime': datetime.datetime(2021, 2, 24, 21, 24, 55, 522000, tzinfo=tzlocal())}}"
      ]
     },
     "execution_count": 61,
     "metadata": {},
     "output_type": "execute_result"
    }
   ],
   "source": [
    "desc_campaign_response = personalize.describe_campaign(campaignArn = campaign_arn)['campaign']\n",
    "desc_campaign_response"
   ]
  },
  {
   "cell_type": "code",
   "execution_count": 62,
   "metadata": {},
   "outputs": [],
   "source": [
    "campaign_arn_response = personalize.update_campaign(campaignArn=campaign_arn, campaignConfig = {\n",
    "        \"itemExplorationConfig\": {\n",
    "            \"explorationWeight\": \"0.1\",\n",
    "            \"explorationItemAgeCutOff\": \"7\"\n",
    "        }\n",
    "    })\n"
   ]
  },
  {
   "cell_type": "code",
   "execution_count": 63,
   "metadata": {},
   "outputs": [
    {
     "name": "stdout",
     "output_type": "stream",
     "text": [
      "Current Campaign  explorationWeight: 0.9\n",
      "Current Campaign  explorationWeight: 0.1\n"
     ]
    }
   ],
   "source": [
    "# Wait for campaign update to reflect the new explorationWeight\n",
    "explorationWeight = None\n",
    "max_time = time.time() + 3*60*60 # 3 hours\n",
    "while time.time() < max_time:\n",
    "    describe_campaign_response = personalize.describe_campaign(\n",
    "        campaignArn = campaign_arn\n",
    "    )\n",
    "    explorationWeight = describe_campaign_response[\"campaign\"][\"campaignConfig\"]['itemExplorationConfig']['explorationWeight']\n",
    "    print(\"Current Campaign  explorationWeight: {}\".format(explorationWeight))\n",
    "    \n",
    "    if explorationWeight == \"0.1\":\n",
    "        break\n",
    "        \n",
    "    time.sleep(60)\n",
    "\n",
    "# wait 1 minutes\n",
    "time.sleep(60)"
   ]
  },
  {
   "cell_type": "markdown",
   "metadata": {},
   "source": [
    "### Después de actualizado explorationWeight\n",
    "\n",
    "Hagamos una recomendación nuevamente, deberíamos ver más elementos antiguos aquí. "
   ]
  },
  {
   "cell_type": "code",
   "execution_count": 64,
   "metadata": {},
   "outputs": [],
   "source": [
    "rec_response = personalize_runtime.get_recommendations(campaignArn = campaign_arn, userId = '101')"
   ]
  },
  {
   "cell_type": "code",
   "execution_count": 65,
   "metadata": {},
   "outputs": [
    {
     "data": {
      "text/plain": [
       "{'ResponseMetadata': {'RequestId': '62fa48e1-db3f-44a7-9f75-e6208286279b',\n",
       "  'HTTPStatusCode': 200,\n",
       "  'HTTPHeaders': {'content-type': 'application/json',\n",
       "   'date': 'Thu, 25 Feb 2021 02:50:48 GMT',\n",
       "   'x-amzn-requestid': '62fa48e1-db3f-44a7-9f75-e6208286279b',\n",
       "   'content-length': '1393',\n",
       "   'connection': 'keep-alive'},\n",
       "  'RetryAttempts': 0},\n",
       " 'itemList': [{'itemId': '55', 'score': 0.0447419},\n",
       "  {'itemId': '30', 'score': 0.0353188},\n",
       "  {'itemId': '27', 'score': 0.02648},\n",
       "  {'itemId': '16', 'score': 0.0224729},\n",
       "  {'itemId': '69', 'score': 0.0219123},\n",
       "  {'itemId': '40', 'score': 0.0216392},\n",
       "  {'itemId': '80', 'score': 0.0210774},\n",
       "  {'itemId': '31', 'score': 0.0210631},\n",
       "  {'itemId': '88', 'score': 0.0202834},\n",
       "  {'itemId': '42', 'score': 0.0198076},\n",
       "  {'itemId': '81', 'score': 0.0195448},\n",
       "  {'itemId': '13', 'score': 0.019479},\n",
       "  {'itemId': '12', 'score': 0.0193007},\n",
       "  {'itemId': '90', 'score': 0.0189647},\n",
       "  {'itemId': '19', 'score': 0.0164296},\n",
       "  {'itemId': '72', 'score': 0.015745},\n",
       "  {'itemId': '93', 'score': 0.0146444},\n",
       "  {'itemId': '9', 'score': 0.0145704},\n",
       "  {'itemId': '22', 'score': 0.0132326},\n",
       "  {'itemId': '7', 'score': 0.0129023},\n",
       "  {'itemId': '95', 'score': 0.0127849},\n",
       "  {'itemId': '28', 'score': 0.0126186},\n",
       "  {'itemId': '5', 'score': 0.012478},\n",
       "  {'itemId': '33', 'score': 0.0121995},\n",
       "  {'itemId': '44', 'score': 0.0114737}],\n",
       " 'recommendationId': 'RID-a781d287-9985-4742-95f4-2b37f904a860'}"
      ]
     },
     "execution_count": 65,
     "metadata": {},
     "output_type": "execute_result"
    }
   ],
   "source": [
    "rec_response"
   ]
  },
  {
   "cell_type": "markdown",
   "metadata": {},
   "source": [
    "#### 10. Eliminar Recursos en AWS\n",
    "\n",
    "After created all resouces, let's cleanup all resources."
   ]
  },
  {
   "cell_type": "code",
   "execution_count": 67,
   "metadata": {},
   "outputs": [
    {
     "data": {
      "text/plain": [
       "{'ResponseMetadata': {'RequestId': 'ad381503-45c3-46d6-b67c-110c96628447',\n",
       "  'HTTPStatusCode': 200,\n",
       "  'HTTPHeaders': {'content-type': 'application/x-amz-json-1.1',\n",
       "   'date': 'Thu, 25 Feb 2021 03:14:48 GMT',\n",
       "   'x-amzn-requestid': 'ad381503-45c3-46d6-b67c-110c96628447',\n",
       "   'content-length': '0',\n",
       "   'connection': 'keep-alive'},\n",
       "  'RetryAttempts': 0}}"
      ]
     },
     "execution_count": 67,
     "metadata": {},
     "output_type": "execute_result"
    }
   ],
   "source": [
    "personalize.delete_campaign(campaignArn=campaign_arn)\n",
    "while len(personalize.list_campaigns(solutionArn=solution_arn)['campaigns']):\n",
    "    time.sleep(5)\n",
    "\n",
    "personalize.delete_solution(solutionArn=solution_arn)\n",
    "while len(personalize.list_solutions(datasetGroupArn=dataset_group_arn)['solutions']):\n",
    "    time.sleep(5)\n",
    "\n",
    "for dataset in personalize.list_datasets(datasetGroupArn=dataset_group_arn)['datasets']:\n",
    "    personalize.delete_dataset(datasetArn=dataset['datasetArn'])\n",
    "while len(personalize.list_datasets(datasetGroupArn=dataset_group_arn)['datasets']):\n",
    "    time.sleep(5)\n",
    "    \n",
    "personalize.delete_event_tracker(eventTrackerArn=event_tracker_arn)\n",
    "personalize.delete_dataset_group(datasetGroupArn=dataset_group_arn)"
   ]
  },
  {
   "cell_type": "code",
   "execution_count": null,
   "metadata": {},
   "outputs": [],
   "source": []
  }
 ],
 "metadata": {
  "kernelspec": {
   "display_name": "Python 3",
   "language": "python",
   "name": "python3"
  },
  "language_info": {
   "codemirror_mode": {
    "name": "ipython",
    "version": 3
   },
   "file_extension": ".py",
   "mimetype": "text/x-python",
   "name": "python",
   "nbconvert_exporter": "python",
   "pygments_lexer": "ipython3",
   "version": "3.6.9"
  }
 },
 "nbformat": 4,
 "nbformat_minor": 4
}
